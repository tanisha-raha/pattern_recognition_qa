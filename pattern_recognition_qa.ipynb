{
 "cells": [
  {
   "cell_type": "code",
   "execution_count": null,
   "id": "ac50d33d-fcf0-4a68-a9a3-1550a4ed508e",
   "metadata": {},
   "outputs": [],
   "source": [
    "import numpy as np\n",
    "import matplotlib.pyplot as plt\n",
    "import random\n",
    "import os\n",
    "\n",
    "# Directory to save generated images\n",
    "os.makedirs(\"pattern_data\", exist_ok=True)\n",
    "\n",
    "def generate_shape(shape, filename):\n",
    "    \"\"\"Generate images of geometric shapes.\"\"\"\n",
    "    fig, ax = plt.subplots(figsize=(2, 2))\n",
    "    ax.set_xlim(0, 100)\n",
    "    ax.set_ylim(0, 100)\n",
    "\n",
    "    if shape == \"circle\":\n",
    "        radius = random.randint(10, 30)\n",
    "        x, y = random.randint(30, 70), random.randint(30, 70)\n",
    "        circle = plt.Circle((x, y), radius, color='blue')\n",
    "        ax.add_artist(circle)\n",
    "    elif shape == \"square\":\n",
    "        size = random.randint(10, 30)\n",
    "        x, y = random.randint(30, 70), random.randint(30, 70)\n",
    "        square = plt.Rectangle((x, y), size, size, color='green')\n",
    "        ax.add_artist(square)\n",
    "    elif shape == \"triangle\":\n",
    "        x = random.randint(30, 70)\n",
    "        y = random.randint(30, 70)\n",
    "        size = random.randint(10, 30)\n",
    "        triangle = plt.Polygon([(x, y), (x+size, y), (x+size/2, y+size)], color='red')\n",
    "        ax.add_artist(triangle)\n",
    "    \n",
    "    ax.axis('off')\n",
    "    plt.savefig(filename, bbox_inches='tight', pad_inches=0)\n",
    "    plt.close()\n",
    "\n",
    "# Generate 100 images for each shape\n",
    "for shape in [\"circle\", \"square\", \"triangle\"]:\n",
    "    for i in range(100):\n",
    "        filename = f\"pattern_data/{shape}_{i}.png\"\n",
    "        generate_shape(shape, filename)\n",
    "\n",
    "print(\"Shape images generated!\")\n"
   ]
  },
  {
   "cell_type": "code",
   "execution_count": null,
   "id": "9b3c5e58-7a5b-459e-b6b6-36e50e4e4d94",
   "metadata": {},
   "outputs": [],
   "source": [
    "import cv2\n",
    "import glob\n",
    "\n",
    "def preprocess_images(folder):\n",
    "    \"\"\"Convert images to grayscale and resize them.\"\"\"\n",
    "    images = []\n",
    "    labels = []\n",
    "    for filepath in glob.glob(f\"{folder}/*.png\"):\n",
    "        img = cv2.imread(filepath, cv2.IMREAD_GRAYSCALE)  # Convert to grayscale\n",
    "        img_resized = cv2.resize(img, (50, 50))  # Resize to 50x50 pixels\n",
    "        images.append(img_resized)\n",
    "\n",
    "        # Extract the label from filename\n",
    "        label = filepath.split(\"/\")[-1].split(\"_\")[0]\n",
    "        labels.append(label)\n",
    "    \n",
    "    return np.array(images), np.array(labels)\n",
    "\n",
    "images, labels = preprocess_images(\"pattern_data\")\n",
    "print(\"Preprocessing complete!\")\n",
    "print(f\"Number of samples: {len(images)}\")\n"
   ]
  },
  {
   "cell_type": "code",
   "execution_count": 3,
   "id": "9ea27ee7-e2c3-4129-8ae4-997a8f59bc83",
   "metadata": {},
   "outputs": [
    {
     "name": "stdout",
     "output_type": "stream",
     "text": [
      "Features and labels prepared!\n",
      "Feature shape: (300, 2500)\n",
      "Label mapping: {np.str_('pattern'): np.int64(0)}\n"
     ]
    }
   ],
   "source": [
    "from sklearn.preprocessing import LabelEncoder\n",
    "\n",
    "# Flatten images\n",
    "features = images.reshape(len(images), -1)\n",
    "\n",
    "# Encode labels (circle -> 0, square -> 1, triangle -> 2)\n",
    "label_encoder = LabelEncoder()\n",
    "encoded_labels = label_encoder.fit_transform(labels)\n",
    "\n",
    "print(\"Features and labels prepared!\")\n",
    "print(f\"Feature shape: {features.shape}\")\n",
    "print(f\"Label mapping: {dict(zip(label_encoder.classes_, label_encoder.transform(label_encoder.classes_)))}\")\n"
   ]
  },
  {
   "cell_type": "code",
   "execution_count": 4,
   "id": "af04073b-c3cb-448a-b044-db37add733e9",
   "metadata": {},
   "outputs": [
    {
     "name": "stdout",
     "output_type": "stream",
     "text": [
      "Clustering complete!\n",
      "Cluster to shape mapping: {np.int32(2): np.str_('pattern'), np.int32(1): np.str_('pattern')}\n"
     ]
    }
   ],
   "source": [
    "from sklearn.cluster import KMeans\n",
    "\n",
    "# Train KMeans clustering\n",
    "kmeans = KMeans(n_clusters=3, random_state=42)\n",
    "kmeans.fit(features)\n",
    "\n",
    "# Map cluster labels back to shape names\n",
    "cluster_mapping = {}\n",
    "for i, label in enumerate(kmeans.labels_[:10]):  # Assume the first 10 are well-clustered\n",
    "    cluster_mapping[label] = labels[i]\n",
    "\n",
    "print(\"Clustering complete!\")\n",
    "print(\"Cluster to shape mapping:\", cluster_mapping)\n"
   ]
  },
  {
   "cell_type": "code",
   "execution_count": 5,
   "id": "08fc4b51-c512-4a46-89f5-b32d3e1505b9",
   "metadata": {},
   "outputs": [
    {
     "name": "stdout",
     "output_type": "stream",
     "text": [
      "Predicted shape: pattern\n"
     ]
    }
   ],
   "source": [
    "def predict_shape(image_path):\n",
    "    \"\"\"Predict shape for a new image.\"\"\"\n",
    "    img = cv2.imread(image_path, cv2.IMREAD_GRAYSCALE)\n",
    "    img_resized = cv2.resize(img, (50, 50)).flatten().reshape(1, -1)\n",
    "    \n",
    "    cluster = kmeans.predict(img_resized)[0]\n",
    "    predicted_shape = cluster_mapping.get(cluster, \"Unknown\")\n",
    "    \n",
    "    return predicted_shape\n",
    "\n",
    "# Test with a new image\n",
    "test_image = \"pattern_data/circle_0.png\"  # Replace with any image path\n",
    "predicted_shape = predict_shape(test_image)\n",
    "print(f\"Predicted shape: {predicted_shape}\") \n"
   ]
  },
  {
   "cell_type": "code",
   "execution_count": 6,
   "id": "3e264624-ad2c-4bcf-bba8-085be43abb7e",
   "metadata": {},
   "outputs": [
    {
     "name": "stdout",
     "output_type": "stream",
     "text": [
      "Data prepared for Scikit-learn!\n",
      "Training data shape: (240, 2500)\n"
     ]
    }
   ],
   "source": [
    "from sklearn.model_selection import train_test_split\n",
    "from sklearn.preprocessing import StandardScaler, LabelEncoder\n",
    "\n",
    "# Flatten images\n",
    "features = images.reshape(len(images), -1)\n",
    "\n",
    "# Normalize pixel values (scale between 0 and 1)\n",
    "features = features / 255.0\n",
    "\n",
    "# Encode labels (circle -> 0, square -> 1, triangle -> 2)\n",
    "label_encoder = LabelEncoder()\n",
    "encoded_labels = label_encoder.fit_transform(labels)\n",
    "\n",
    "# Split data into training and testing sets\n",
    "X_train, X_test, y_train, y_test = train_test_split(features, encoded_labels, test_size=0.2, random_state=42)\n",
    "\n",
    "print(\"Data prepared for Scikit-learn!\")\n",
    "print(f\"Training data shape: {X_train.shape}\")\n"
   ]
  },
  {
   "cell_type": "code",
   "execution_count": 7,
   "id": "60c44a25-e59c-4411-82ae-f90146960efb",
   "metadata": {},
   "outputs": [
    {
     "name": "stdout",
     "output_type": "stream",
     "text": [
      "Test Accuracy: 100.00%\n",
      "\n",
      "Classification Report:\n",
      "              precision    recall  f1-score   support\n",
      "\n",
      "     pattern       1.00      1.00      1.00        60\n",
      "\n",
      "    accuracy                           1.00        60\n",
      "   macro avg       1.00      1.00      1.00        60\n",
      "weighted avg       1.00      1.00      1.00        60\n",
      "\n"
     ]
    }
   ],
   "source": [
    "from sklearn.neural_network import MLPClassifier\n",
    "from sklearn.metrics import accuracy_score, classification_report\n",
    "\n",
    "# Create and train the neural network\n",
    "mlp = MLPClassifier(hidden_layer_sizes=(256, 128, 64), activation='relu', max_iter=500, random_state=42)\n",
    "mlp.fit(X_train, y_train)\n",
    "\n",
    "# Evaluate on the test set\n",
    "y_pred = mlp.predict(X_test)\n",
    "test_accuracy = accuracy_score(y_test, y_pred)\n",
    "\n",
    "print(f\"Test Accuracy: {test_accuracy * 100:.2f}%\")\n",
    "print(\"\\nClassification Report:\")\n",
    "print(classification_report(y_test, y_pred, target_names=label_encoder.classes_))\n"
   ]
  },
  {
   "cell_type": "code",
   "execution_count": 8,
   "id": "105de59c-4454-4450-be92-78be989b924c",
   "metadata": {},
   "outputs": [
    {
     "name": "stdout",
     "output_type": "stream",
     "text": [
      "Predicted shape: pattern\n"
     ]
    }
   ],
   "source": [
    "def predict_shape(image_path):\n",
    "    \"\"\"Predict shape for a new image using the trained model.\"\"\"\n",
    "    img = cv2.imread(image_path, cv2.IMREAD_GRAYSCALE)\n",
    "    img_resized = cv2.resize(img, (50, 50)).flatten() / 255.0  # Normalize and flatten\n",
    "    prediction = mlp.predict([img_resized])\n",
    "    predicted_shape = label_encoder.inverse_transform(prediction)[0]\n",
    "    return predicted_shape\n",
    "\n",
    "# Test with a new image\n",
    "test_image = \"pattern_data/circle_0.png\"  # Replace with any image path\n",
    "predicted_shape = predict_shape(test_image)\n",
    "print(f\"Predicted shape: {predicted_shape}\")\n"
   ]
  },
  {
   "cell_type": "code",
   "execution_count": null,
   "id": "a36eb8f6-77b2-4f21-aed6-fbe9115d912f",
   "metadata": {},
   "outputs": [
    {
     "name": "stdout",
     "output_type": "stream",
     "text": [
      "Welcome to the Pattern Recognition Q&A!\n",
      "Type 'exit' to quit.\n"
     ]
    },
    {
     "name": "stdin",
     "output_type": "stream",
     "text": [
      "\n",
      "Ask a question (e.g., 'What shape is in image path <path>?'):  what shape is in image path\n"
     ]
    },
    {
     "name": "stdout",
     "output_type": "stream",
     "text": [
      "Sorry, I can only answer questions about shapes in image paths.\n"
     ]
    },
    {
     "name": "stdin",
     "output_type": "stream",
     "text": [
      "\n",
      "Ask a question (e.g., 'What shape is in image path <path>?'):  What shape is in image path pattern_data/circle_0.png?\n"
     ]
    },
    {
     "name": "stdout",
     "output_type": "stream",
     "text": [
      "Answer: The shape in the image is Invalid image path or file not found..\n"
     ]
    }
   ],
   "source": [
    "import cv2\n",
    "import numpy as np\n",
    "from sklearn.neural_network import MLPClassifier\n",
    "from sklearn.preprocessing import LabelEncoder\n",
    "\n",
    "# Simulated training process (reuse this from earlier)\n",
    "# Assume 'mlp' is your trained MLPClassifier and 'label_encoder' is ready\n",
    "\n",
    "# Example function to predict the shape from an image\n",
    "def predict_shape(image_path):\n",
    "    \"\"\"Predict the geometric shape in the image.\"\"\"\n",
    "    img = cv2.imread(image_path, cv2.IMREAD_GRAYSCALE)\n",
    "    if img is None:\n",
    "        return \"Invalid image path or file not found.\"\n",
    "\n",
    "    # Preprocess: Resize, normalize, and flatten\n",
    "    img_resized = cv2.resize(img, (50, 50)).flatten() / 255.0\n",
    "    prediction = mlp.predict([img_resized])\n",
    "    predicted_shape = label_encoder.inverse_transform(prediction)[0]\n",
    "    return predicted_shape\n",
    "\n",
    "# Q&A Loop\n",
    "def pattern_recognition_qa():\n",
    "    print(\"Welcome to the Pattern Recognition Q&A!\")\n",
    "    print(\"Type 'exit' to quit.\")\n",
    "    while True:\n",
    "        question = input(\"\\nAsk a question (e.g., 'What shape is in image path <path>?'): \").strip()\n",
    "        if question.lower() == 'exit':\n",
    "            print(\"Goodbye!\")\n",
    "            break\n",
    "\n",
    "        # Check if the question follows the format for shape prediction\n",
    "        if \"What shape is in image path\" in question:\n",
    "            try:\n",
    "                # Extract the image path from the question\n",
    "                image_path = question.split(\"image path\")[-1].strip()\n",
    "                result = predict_shape(image_path)\n",
    "                print(f\"Answer: The shape in the image is {result}.\")\n",
    "            except Exception as e:\n",
    "                print(f\"Error: {e}\")\n",
    "        else:\n",
    "            print(\"Sorry, I can only answer questions about shapes in image paths.\")\n",
    "\n",
    "# Start the Q&A loop\n",
    "pattern_recognition_qa()\n"
   ]
  },
  {
   "cell_type": "code",
   "execution_count": null,
   "id": "d87e80a9-dea0-4063-b5c4-0ba97a477792",
   "metadata": {},
   "outputs": [],
   "source": []
  },
  {
   "cell_type": "code",
   "execution_count": null,
   "id": "67d94ba6-d1a9-4ee2-8716-2b1dd97b5c7b",
   "metadata": {},
   "outputs": [],
   "source": []
  }
 ],
 "metadata": {
  "kernelspec": {
   "display_name": "Python 3 (ipykernel)",
   "language": "python",
   "name": "python3"
  },
  "language_info": {
   "codemirror_mode": {
    "name": "ipython",
    "version": 3
   },
   "file_extension": ".py",
   "mimetype": "text/x-python",
   "name": "python",
   "nbconvert_exporter": "python",
   "pygments_lexer": "ipython3",
   "version": "3.9.0"
  }
 },
 "nbformat": 4,
 "nbformat_minor": 5
}
